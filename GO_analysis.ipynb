{
 "cells": [
  {
   "cell_type": "code",
   "execution_count": 43,
   "id": "09813320",
   "metadata": {
    "scrolled": false
   },
   "outputs": [
    {
     "name": "stdout",
     "output_type": "stream",
     "text": [
      "go_data/go-basic.obo: fmt(1.2) rel(2024-03-28) 45,727 Terms\n",
      "Number of GO terms with query term in their name: 18\n"
     ]
    }
   ],
   "source": [
    "#intall goatools\n",
    "#pip install goatools\n",
    "\n",
    "from goatools import obo_parser\n",
    "#!pip install wget\n",
    "import wget\n",
    "import os\n",
    "\n",
    "#download an obo file containing all the go terms, obo is a file to handle annotation data\n",
    "#use the webget library and store in a folder go_data\n",
    "\n",
    "#go_obo_url = 'http://purl.obolibrary.org/obo/go/go-basic.obo'\n",
    "#go_obo = wget.download(go_obo_url,'go_data/go-basic.obo')\n",
    "\n",
    "#if you've already downloaded the file you can read the file directly\n",
    "\n",
    "go_obo = 'go_data/go-basic.obo'\n",
    "go = obo_parser.GODag(go_obo) #create a dictionary of GO terms\n",
    "\n",
    "#testing the parser\n",
    "#go_id = 'GO:0005858'\n",
    "#go_term = go[go_id]\n",
    "#print(go_term)\n",
    "\n",
    "#testing example to make lists of go terms and descriptions containing a search query in them\n",
    "\n",
    "vcount = []\n",
    "vname = []\n",
    "\n",
    "#replace with the search query term of your choice\n",
    "vquery = 'dynein'\n",
    "for go_term in go.values():\n",
    "    if vquery in go_term.name:\n",
    "        vcount.append(go_term.id)\n",
    "        vname.append(go_term.name)\n",
    "        \n",
    "print('Number of GO terms with query term in their name: {}'.format(len(vcount)))\n",
    "\n",
    "#make a dataframe of Go terms with their corresponding descriptors \n",
    "\n",
    "import pandas as pd\n",
    "df = pd.DataFrame({'GO_TERM': vcount, 'GO_DESC': vname})\n",
    "\n",
    "#writing df as an excel file to better analyze the output\n",
    "\n",
    "#df.to_excel(vquery+'.xlsx', index=False)  # Specify index=False to exclude row numbers in Excel\n",
    "\n",
    "#writing a code to loop through the GO term ids and return the gene list for each term\n",
    "\n",
    "##getting corresponding gene names for GO term annotations\n",
    "#converting the GO annotation column into a string and adding an additional column with these values \n",
    "\n",
    "annot = pd.read_csv('MM_ygb98ktq/out_emapper-2_annotations.csv')\n",
    "dfGOs = annot['GOs']\n",
    "\n",
    "dfGOst = []\n",
    "for go in dfGOs:\n",
    "    dfGOst.append(str(go))\n",
    "\n",
    "annot['GOstring'] = dfGOst\n",
    "\n",
    "#split the set of strings of the GO terms to analyze individual GO terms\n",
    "annot['GOstring'] = annot['GOstring'].str.split(',')\n",
    "#print(annot['GOstring'].head())\n",
    "\n",
    "# Initialize a dictionary to store values of 'query' for each value in 'vcount' - the list of GO terms generated\n",
    "gonames = {vc: '' for vc in vcount}\n",
    "\n",
    "#list(gonames.items())[:4]\n",
    "\n",
    "# Iterate over each row in the DataFrame\n",
    "for index, row in annot.iterrows():\n",
    "    # Iterate over each value in the 'GOstring' column of the current row\n",
    "    for gostr_val in row['GOstring']:\n",
    "        #If the GO value is in the stored list of GO terms, store the corresponding value of query\n",
    "        if gostr_val in vcount:\n",
    "            gonames[gostr_val] += row['query'] + ','\n",
    "\n",
    "#list of GO terms for the search term =/= length of list of terms retrieved from our annotation csv file\n",
    "#len(list(gonames.items()))"
   ]
  },
  {
   "cell_type": "code",
   "execution_count": 45,
   "id": "3c53188a",
   "metadata": {
    "scrolled": false
   },
   "outputs": [
    {
     "name": "stdout",
     "output_type": "stream",
     "text": [
      "     GO Terms                     GO Description  \\\n",
      "0  GO:0005858                     dynein complex   \n",
      "1  GO:0005868           dynein axonemal particle   \n",
      "2  GO:0030286   axonemal dynein complex assembly   \n",
      "3  GO:0030989  dynein intermediate chain binding   \n",
      "4  GO:0036156                   outer dynein arm   \n",
      "\n",
      "                                               Genes  \n",
      "0  SteCoe_266,SteCoe_12657,SteCoe_12680,SteCoe_12...  \n",
      "1  SteCoe_1165,SteCoe_1842,SteCoe_2013,SteCoe_337...  \n",
      "2  SteCoe_266,SteCoe_1165,SteCoe_1842,SteCoe_2013...  \n",
      "3  SteCoe_10486,SteCoe_17213,SteCoe_17610,SteCoe_...  \n",
      "4  SteCoe_266,SteCoe_14921,SteCoe_15463,SteCoe_16...  \n"
     ]
    }
   ],
   "source": [
    "#creating a dataframe with all the requisite information\n",
    "# Convert the dictionary to a DataFrame\n",
    "result_df = pd.DataFrame.from_dict(gonames, orient='index', columns=['Proteins'])\n",
    "\n",
    "# Reset the index to make 'GO Terms' a column\n",
    "result_df.reset_index(inplace=True)\n",
    "\n",
    "# Rename the columns to appropriate names\n",
    "result_df.rename(columns={'index': 'GO Terms'}, inplace=True)\n",
    "\n",
    "#add the column that gives GO term description\n",
    "term_desc = []\n",
    "\n",
    "# Iterate over each term in the 'GO Terms' column of result_df\n",
    "for term in result_df['GO Terms']:\n",
    "    # Iterate over each go_term in the 'GO_TERM' column of df - recall the earlier dataframe \n",
    "    for i, go_term in enumerate(df['GO_TERM']):\n",
    "        # Check if the term matches the go_term\n",
    "        if term == go_term:\n",
    "            # Append the ith row of the other column corresponding to the matched term\n",
    "            term_desc.append(df['GO_DESC'][i])\n",
    "            \n",
    "#there are some redundant values so converting into a set then reconverting into a list\n",
    "unique_desc= list(set(term_desc))\n",
    "\n",
    "# Insert the term description column at position 1\n",
    "result_df.insert(loc=1, column='GO Description', value=unique_desc)\n",
    "print(result_df.head())\n",
    "\n",
    "# Save the modified DataFrame as a spreadsheet\n",
    "#result_df.to_excel(vquery+'GO.xlsx', index=False)  # Specify index=False to exclude row numbers in Excel\n"
   ]
  },
  {
   "cell_type": "code",
   "execution_count": null,
   "id": "3a523655",
   "metadata": {},
   "outputs": [],
   "source": []
  }
 ],
 "metadata": {
  "kernelspec": {
   "display_name": "Python 3 (ipykernel)",
   "language": "python",
   "name": "python3"
  },
  "language_info": {
   "codemirror_mode": {
    "name": "ipython",
    "version": 3
   },
   "file_extension": ".py",
   "mimetype": "text/x-python",
   "name": "python",
   "nbconvert_exporter": "python",
   "pygments_lexer": "ipython3",
   "version": "3.10.9"
  }
 },
 "nbformat": 4,
 "nbformat_minor": 5
}
