{
 "cells": [
  {
   "cell_type": "code",
   "execution_count": 1,
   "id": "3c87e9a2",
   "metadata": {},
   "outputs": [],
   "source": [
    "#trying to import the text annotation file from eggnogmapper into CSV, import pandas\n",
    "\n",
    "import pandas as pd\n",
    "\n",
    "#df1 = pd.read_excel('MM_0k__n476/out.emapper.annotations.xlsx')\n",
    "#print(df1.head())\n",
    "\n",
    "#I used the library python-magic to figure out the format of a file\n",
    "#I used pip install python-magic\n",
    "#Before that I had to install libmagic using homebrew \n",
    "\n",
    "#Then I used print(magic.from_file('file pathname')) to figure out what my format was\n",
    "#Turns out its ascii with very long lines\n",
    "#Now I'm trying to figure out how to convert this to a text file \n",
    "\n",
    "#pip install python-magic\n",
    "\n",
    "import magic"
   ]
  },
  {
   "cell_type": "code",
   "execution_count": 2,
   "id": "4b56c2db",
   "metadata": {
    "scrolled": true
   },
   "outputs": [
    {
     "name": "stdout",
     "output_type": "stream",
     "text": [
      "ASCII text, with very long lines (5145)\n"
     ]
    }
   ],
   "source": [
    "#the data folders MM_ygb98ktq and MM_0k__n476 represent the outputs of the fasta file fed into webversion of eggnogmapper\n",
    "#two folders represent different sets of parameter that were entered \n",
    "\n",
    "print(magic.from_file('MM_ygb98ktq/out.emapper-2.annotations'))"
   ]
  },
  {
   "cell_type": "code",
   "execution_count": 3,
   "id": "869c7072",
   "metadata": {
    "scrolled": true
   },
   "outputs": [],
   "source": [
    "#read ascii file\n",
    "df3 = open('MM_ygb98ktq/out.emapper-2.annotations','r')\n",
    "asci = df3.read()"
   ]
  },
  {
   "cell_type": "code",
   "execution_count": 4,
   "id": "75aa31a7",
   "metadata": {},
   "outputs": [],
   "source": [
    "with open('MM_ygb98ktq/out_emapper-2_annotations.txt', 'w') as file:\n",
    "    # Write the ASCII text to the file\n",
    "    file.write(asci)\n",
    "\n",
    "from io import StringIO\n",
    "#string IO will help the computer make sense of the long lines\n",
    "\n",
    "#Read the ascii file using stringIO and using tab as a delimiter, ignoring the commented rows\n",
    "df4 = pd.read_csv(StringIO(asci),header = None ,delimiter=\"\\t\", comment = '#')\n",
    "\n",
    "df4.to_csv('MM_ygb98ktq/out_emapper-2_annotations.csv',header = ['query','seed_ortholog','evalue','score','eggNOG_OGs','max_annot_lvl','COG_category','Description','Preferred_name','GOs','EC','KEGG_ko','KEGG_Pathway','KEGG_Module','KEGG_Reaction','KEGG_rclass','BRITE','KEGG_TC','CAZy','BiGG_Reaction','PFAMs'])\n",
    "#print(df4.head())"
   ]
  },
  {
   "cell_type": "code",
   "execution_count": null,
   "id": "e554ff3f",
   "metadata": {},
   "outputs": [],
   "source": []
  }
 ],
 "metadata": {
  "kernelspec": {
   "display_name": "Python 3 (ipykernel)",
   "language": "python",
   "name": "python3"
  },
  "language_info": {
   "codemirror_mode": {
    "name": "ipython",
    "version": 3
   },
   "file_extension": ".py",
   "mimetype": "text/x-python",
   "name": "python",
   "nbconvert_exporter": "python",
   "pygments_lexer": "ipython3",
   "version": "3.10.9"
  }
 },
 "nbformat": 4,
 "nbformat_minor": 5
}
