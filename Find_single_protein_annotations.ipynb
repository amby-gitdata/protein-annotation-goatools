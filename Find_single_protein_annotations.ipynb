{
 "cells": [
  {
   "cell_type": "code",
   "execution_count": 7,
   "id": "3a5c57ea",
   "metadata": {},
   "outputs": [],
   "source": [
    "import pandas as pd\n",
    "import numpy as np\n",
    "\n",
    "#load dataframe \n",
    "df = pd.read_csv('MM_ygb98ktq/out_emapper-2_annotations.csv')"
   ]
  },
  {
   "cell_type": "code",
   "execution_count": null,
   "id": "e3eafcf2",
   "metadata": {},
   "outputs": [],
   "source": [
    "query = input('Enter query gene name in format SteCoe_x\\n')"
   ]
  },
  {
   "cell_type": "code",
   "execution_count": null,
   "id": "3312fdbe",
   "metadata": {},
   "outputs": [],
   "source": [
    "#define filter\n",
    "mask = np.column_stack([df['query'].str.contains(query, na=False) for col in df])\n",
    "\n",
    "#filter for rows where any column contains 'Guard'\n",
    "filt_df = df.loc[mask.any(axis=1)]\n",
    "\n",
    "filt_df1 = filt_df.T\n",
    "print(filt_df1)"
   ]
  },
  {
   "cell_type": "code",
   "execution_count": 6,
   "id": "78366bc8",
   "metadata": {},
   "outputs": [],
   "source": [
    "#optional code to write the file as a textfile\n",
    "#filt_df1.to_csv('MM_ygb98ktq/data.txt', sep='\\t', index=False)"
   ]
  },
  {
   "cell_type": "code",
   "execution_count": null,
   "id": "45823468",
   "metadata": {},
   "outputs": [],
   "source": []
  }
 ],
 "metadata": {
  "kernelspec": {
   "display_name": "Python 3 (ipykernel)",
   "language": "python",
   "name": "python3"
  },
  "language_info": {
   "codemirror_mode": {
    "name": "ipython",
    "version": 3
   },
   "file_extension": ".py",
   "mimetype": "text/x-python",
   "name": "python",
   "nbconvert_exporter": "python",
   "pygments_lexer": "ipython3",
   "version": "3.10.9"
  }
 },
 "nbformat": 4,
 "nbformat_minor": 5
}
